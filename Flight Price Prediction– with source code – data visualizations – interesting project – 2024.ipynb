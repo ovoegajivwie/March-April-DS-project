{
 "cells": [
  {
   "cell_type": "code",
   "execution_count": 2,
   "id": "c1ceb953",
   "metadata": {},
   "outputs": [
    {
     "name": "stdout",
     "output_type": "stream",
     "text": [
      "       Airline Date_of_Journey    Source Destination                  Route  \\\n",
      "0       IndiGo      24/03/2019  Banglore   New Delhi              BLR → DEL   \n",
      "1    Air India       1/05/2019   Kolkata    Banglore  CCU → IXR → BBI → BLR   \n",
      "2  Jet Airways       9/06/2019     Delhi      Cochin  DEL → LKO → BOM → COK   \n",
      "3       IndiGo      12/05/2019   Kolkata    Banglore        CCU → NAG → BLR   \n",
      "4       IndiGo      01/03/2019  Banglore   New Delhi        BLR → NAG → DEL   \n",
      "\n",
      "  Dep_Time  Arrival_Time Duration Total_Stops Additional_Info  Price  \n",
      "0    22:20  01:10 22 Mar   2h 50m    non-stop         No info   3897  \n",
      "1    05:50         13:15   7h 25m     2 stops         No info   7662  \n",
      "2    09:25  04:25 10 Jun      19h     2 stops         No info  13882  \n",
      "3    18:05         23:30   5h 25m      1 stop         No info   6218  \n",
      "4    16:50         21:35   4h 45m      1 stop         No info  13302  \n",
      "Cochin       4537\n",
      "Banglore     2871\n",
      "Delhi        1265\n",
      "New Delhi     932\n",
      "Hyderabad     697\n",
      "Kolkata       381\n",
      "Name: Destination, dtype: int64\n",
      "<class 'pandas.core.frame.DataFrame'>\n",
      "RangeIndex: 10683 entries, 0 to 10682\n",
      "Data columns (total 11 columns):\n",
      " #   Column           Non-Null Count  Dtype \n",
      "---  ------           --------------  ----- \n",
      " 0   Airline          10683 non-null  object\n",
      " 1   Date_of_Journey  10683 non-null  object\n",
      " 2   Source           10683 non-null  object\n",
      " 3   Destination      10683 non-null  object\n",
      " 4   Route            10682 non-null  object\n",
      " 5   Dep_Time         10683 non-null  object\n",
      " 6   Arrival_Time     10683 non-null  object\n",
      " 7   Duration         10683 non-null  object\n",
      " 8   Total_Stops      10682 non-null  object\n",
      " 9   Additional_Info  10683 non-null  object\n",
      " 10  Price            10683 non-null  int64 \n",
      "dtypes: int64(1), object(10)\n",
      "memory usage: 918.2+ KB\n",
      "None\n"
     ]
    }
   ],
   "source": [
    "#start date: 11/03/2024\n",
    "#project_title: Flight Price Prediction with Flask app – with source code – data visualizations – interesting project – 2024\n",
    "#project_link:\n",
    "\n",
    "import pandas as pd\n",
    "import seaborn as sns\n",
    "import numpy as np\n",
    "import matplotlib.pyplot as plt\n",
    "import datetime as dt\n",
    "from sklearn.model_selection import train_test_split, RandomizedSearchCV\n",
    "from sklearn.ensemble import RandomForestRegressor, ExtraTreesRegressor\n",
    "import pickle\n",
    "\n",
    "#Reading training data\n",
    "train_data = pd.read_excel('Data_Train.xlsx')\n",
    "print(train_data.head())\n",
    "\n",
    "#checking values\n",
    "print(train_data['Destination'].value_counts())\n",
    "\n",
    "#Merging Delhi and New Delhi\n",
    "def newd(x):\n",
    "    if x == 'New Delhi':\n",
    "        return 'Delhi'\n",
    "    else:\n",
    "        return x\n",
    "\n",
    "train_data['Destination'] = train_data['Destination'].apply(newd)\n",
    "\n",
    "print(train_data.info())\n",
    "\n",
    "#Making Datetime columns with day and month\n",
    "train_data['Journey_day'] = pd.to_datetime(train_data['Date_of_Journey'],format='%d/%m/%Y').dt.day\n",
    "train_data['Journey_month'] = pd.to_datetime(train_data['Date_of_Journey'],format='%d/%m/%Y').dt.month\n",
    "train_data.drop('Date_of_Journey',inplace=True,axis=1)\n",
    "print(train_data.head())\n",
    "\n",
    "#stop date: 20/03/2024\n",
    "#end date:"
   ]
  },
  {
   "cell_type": "code",
   "execution_count": null,
   "id": "28cbe854",
   "metadata": {},
   "outputs": [],
   "source": []
  }
 ],
 "metadata": {
  "kernelspec": {
   "display_name": "Python 3 (ipykernel)",
   "language": "python",
   "name": "python3"
  },
  "language_info": {
   "codemirror_mode": {
    "name": "ipython",
    "version": 3
   },
   "file_extension": ".py",
   "mimetype": "text/x-python",
   "name": "python",
   "nbconvert_exporter": "python",
   "pygments_lexer": "ipython3",
   "version": "3.9.13"
  }
 },
 "nbformat": 4,
 "nbformat_minor": 5
}
